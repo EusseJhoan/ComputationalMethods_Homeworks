{
 "cells": [
  {
   "cell_type": "code",
   "execution_count": 3,
   "metadata": {
    "collapsed": true
   },
   "outputs": [],
   "source": [
    "import pandas as pd\n",
    "from sympy import symbols, polys, Poly, init_printing\n",
    "init_printing()"
   ]
  },
  {
   "cell_type": "code",
   "execution_count": 4,
   "metadata": {
    "collapsed": true
   },
   "outputs": [],
   "source": [
    "df=pd.DataFrame({'X':[3,10,21.3],'Y':[8,6.5,3]})\n",
    "\n",
    "#Cumulative product limit\n",
    "n=df.shape[1]+1\n",
    "#Sympy symbols\n",
    "x=symbols('x')\n",
    "\n",
    "\n",
    "#Define Lagrange coefficients function\n",
    "def L(j):\n",
    "    '''\n",
    "    Lagrange coefficients function.\n",
    "    j: Is the j-th Lagrange coefficient.\n",
    "    '''\n",
    "    L=1\n",
    "    for i in range(n):\n",
    "   \n",
    "        if i != j :\n",
    "        \n",
    "            L *= polys.polytools.poly((x-df.X[i])/(df.X[j]-df.X[i])) #Make cumulative product\n",
    "\n",
    "    return L #Return a sympy polynomial of Lagrange coefficients          "
   ]
  },
  {
   "cell_type": "code",
   "execution_count": 5,
   "metadata": {},
   "outputs": [
    {
     "data": {
      "image/png": "[encoded data removed]",
      "text/latex": [
       "$$- 0.00521578136549849 x^{2} - 0.146480556534234 x + 8.48638370189219$$"
      ],
      "text/plain": [
       "                       2                                         \n",
       "- 0.00521578136549849⋅x  - 0.146480556534234⋅x + 8.48638370189219"
      ]
     },
     "execution_count": 5,
     "metadata": {},
     "output_type": "execute_result"
    }
   ],
   "source": [
    "#Reconstruct Lagrange polynomial\n",
    "P=L(0)*df.Y[0]+L(1)*df.Y[1]+ L(2)*df.Y[2]\n",
    "\n",
    "#Print the polynomial in a pretty way\n",
    "P.as_expr()"
   ]
  },
  {
   "cell_type": "code",
   "execution_count": 102,
   "metadata": {},
   "outputs": [
    {
     "name": "stdout",
     "output_type": "stream",
     "text": [
      "El valor de L(0,0) es: 1.00000000000000\n",
      "El valor de L(1,1) es: 1.00000000000000\n",
      "El valor de L(2,2) es: 1.00000000000000\n",
      "El valor de L(0,2) es: 0.0\n"
     ]
    }
   ],
   "source": [
    "#Calculate the L(i,j) Lagrange coefficient for i=j\n",
    "for i in range(n):\n",
    "    L_eval=L(i).subs({x:df.X[i]})#Evaluate the polynomials as function\n",
    "    print('El valor de L({},{}) es: {}'.format(i,i,L_eval))\n",
    "\n",
    "#Calculate the L(0,2) Lagrange coefficient\n",
    "print('El valor de L({},{}) es: {}'.format(0,2,L(0).subs({x:df.X[1]})))"
   ]
  },
  {
   "cell_type": "code",
   "execution_count": null,
   "metadata": {
    "collapsed": true
   },
   "outputs": [],
   "source": []
  }
 ],
 "metadata": {
  "kernelspec": {
   "display_name": "Python 3",
   "language": "python",
   "name": "python3"
  },
  "language_info": {
   "codemirror_mode": {
    "name": "ipython",
    "version": 3
   },
   "file_extension": ".py",
   "mimetype": "text/x-python",
   "name": "python",
   "nbconvert_exporter": "python",
   "pygments_lexer": "ipython3",
   "version": "3.4.2"
  }
 },
 "nbformat": 4,
 "nbformat_minor": 2
}

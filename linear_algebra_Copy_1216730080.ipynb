{
 "cells": [
  {
   "cell_type": "markdown",
   "metadata": {},
   "source": [
    "# Linear Algebra"
   ]
  },
  {
   "cell_type": "markdown",
   "metadata": {},
   "source": [
    "Linear Algebra is a discipline where vector spaces and linear mapping between them are studied. In physics and astronomy, several phenomena can be readily written in terms of linear variables, what makes Computational Linear Algebra a very important topic to be covered throughout this course. We shall cover linear systems of equations, techniques for calculating inverses and determinants and factorization methods.\n",
    "\n",
    "An interesting fact of Computational Linear Algebra is that it does not comprises numerical approaches as most of the methods are exact. The usage of a computer is then necessary because of the large number of calculations rather than the non-soluble nature of the problems. Numerical errors come then from round-off approximations."
   ]
  },
  {
   "cell_type": "markdown",
   "metadata": {},
   "source": [
    "- - -\n",
    "- [Linear Systems of Equations](#Linear-Systems-of-Equations) \n",
    "    - [Matrices and vectors](#Matrices-and-vectors)\n",
    "    - [Example 1](#Example-1)\n",
    "    - [Matrices in Python](#Matrices-in-Python)\n",
    "    - [Basic operations with matrices](#Basic-operations-with-matrices)\n",
    "- [Gaussian Elimination](#Gaussian-Elimination)\n",
    "    - [General Gaussian elimination](#General-Gaussian-elimination)\n",
    "    - [Computing time](#Computing-time)\n",
    "    - [Example 2](#Example-2)\n",
    "- [Pivoting Strategies](#Pivoting-Strategies)\n",
    "    - [Partial pivoting](#Partial-pivoting)\n",
    "- [Matrix Inversion](#Matrix-Inversion)\n",
    "- [Determinant of a Matrix](#Determinant-of-a-Matrix)\n",
    "    - [Calculating determinants](#Calculating-determinants)\n",
    "    - [Computing time of determinants](#Computing-time-of-determinants)\n",
    "    - [Properties of determinants](#Properties-of-determinants)\n",
    "- [LU Factorization](#LU-Factorization)\n",
    "    - [Derivation of LU factorization](#Derivation-of-LU-factorization)\n",
    "    - [Algorithm for LU factorization](#Algorithm-for-LU-factorization)\n",
    "\n",
    "- - -"
   ]
  },
  {
   "cell_type": "code",
   "execution_count": 45,
   "metadata": {},
   "outputs": [
    {
     "name": "stdout",
     "output_type": "stream",
     "text": [
      "Populating the interactive namespace from numpy and matplotlib\n"
     ]
    }
   ],
   "source": [
    "from IPython.display import Math, Latex, HTML, Markdown, YouTubeVideo\n",
    "%pylab inline\n",
    "\n",
    "import sympy\n",
    "x =sympy.Symbol('x') # declare analytical varibles\n",
    "sympy.init_printing() # Use LaTeX to print sympy obejects\n",
    "\n",
    "import numpy as np\n",
    "import matplotlib.pyplot as plt\n",
    "# JSAnimation import available at https://github.com/jakevdp/JSAnimation\n",
    "from JSAnimation import IPython_display\n",
    "from matplotlib import animation\n",
    "#Interpolation add-on\n",
    "import scipy.interpolate as interp\n",
    "xrange=range\n",
    "\n",
    "def sprint(x):\n",
    "    return sympy.Matrix(x)\n",
    "\n",
    "spe_print=vectorize(sprint)"
   ]
  },
  {
   "cell_type": "markdown",
   "metadata": {},
   "source": [
    "- - - "
   ]
  },
  {
   "cell_type": "markdown",
   "metadata": {},
   "source": [
    "# Linear Systems of Equations"
   ]
  },
  {
   "cell_type": "markdown",
   "metadata": {
    "solution": "hidden",
    "solution_first": true
   },
   "source": [
    "## Matrix diagonalization\n",
    "We start again with the matrix equation, capitol bold letters denotes matrices\n",
    "\\begin{equation}\n",
    "  \\boldsymbol{A}\\boldsymbol{X}=\\boldsymbol{B}\\,,\n",
    "\\end{equation}\n",
    "where $\\boldsymbol{A}$ is an $n \\times n$ matrix.\n",
    "\n",
    "We know that there exists a bi-diagonal transformación such that\n",
    "\\begin{equation}\n",
    "  \\boldsymbol{V}^\\dagger\\boldsymbol{A}\\,\\boldsymbol{U}=\\boldsymbol{A}_{\\text{diag}}\n",
    "\\end{equation}\n",
    "So, by doing standard operations we have\n",
    "\\begin{align}\n",
    "  \\boldsymbol{V}^\\dagger \\boldsymbol{A} \\boldsymbol{U} \\boldsymbol{U}^\\dagger \\boldsymbol{X}=& \\boldsymbol{V}^\\dagger \\boldsymbol{B}\\\\\n",
    "  \\boldsymbol{A}_{\\text{diag}} \\boldsymbol{X}'=&\\boldsymbol{B}'\\,,      \n",
    "\\end{align}\n",
    "where\n",
    "\\begin{align}\n",
    "  \\boldsymbol{X}=& \\boldsymbol{U}\\boldsymbol{X}'\\,, &    \\boldsymbol{B}=& \\boldsymbol{V}\\boldsymbol{B}'\\,.\n",
    "\\end{align}\n",
    "\n",
    "If $\\boldsymbol{A}_{\\text{diag}}=\\operatorname{diag}(\\lambda_1,\\lambda_2,\\ldots \\lambda_n)$, $\\boldsymbol{X}^{\\operatorname{T}}=(x_1\\ x_2\\ x_3)^{\\operatorname{T}}$ and $\\boldsymbol{B}^{\\operatorname{T}}=(b_1\\ b_2\\ b_3)^{\\operatorname{T}}$,\n",
    "the solution of the system is given by\n",
    "\\begin{equation}\n",
    "\\lambda_i x'_i=b_i'\\,.\n",
    "\\end{equation}"
   ]
  },
  {
   "cell_type": "markdown",
   "metadata": {
    "solution": "hidden"
   },
   "source": [
    " A suitable way to introduce this method is applying it to some basic problem. To do so, let's take the result of the [Example 1](#Example-1):\n",
    "\n",
    "$$ \\begin{bmatrix}\n",
    "5 & -4 & 0 \\\\\n",
    "-4 & 7 & -3 \\\\ \n",
    "0 & -3 & 5\n",
    "\\end{bmatrix}\n",
    "\\begin{bmatrix}\n",
    "x_{1} \\\\\n",
    "x_{2} \\\\\n",
    "x_{3} \n",
    "\\end{bmatrix}  =\n",
    "\\begin{bmatrix}\n",
    "1 \\\\\n",
    "0 \\\\\n",
    "-2\n",
    "\\end{bmatrix}\n",
    "$$\n",
    "As the matrix is symmetric $\\boldsymbol{V}=\\boldsymbol{U}$ and $\\boldsymbol{U}^\\dagger=\\boldsymbol{U}^{\\operatorname{T}}$ "
   ]
  },
  {
   "cell_type": "code",
   "execution_count": 25,
   "metadata": {},
   "outputs": [],
   "source": [
    "M1=np.array([[5,-4,0],[-4,7,-3],[0,-3,5]])"
   ]
  },
  {
   "cell_type": "code",
   "execution_count": 26,
   "metadata": {
    "collapsed": true
   },
   "outputs": [],
   "source": [
    "A=M1"
   ]
  },
  {
   "cell_type": "code",
   "execution_count": 27,
   "metadata": {},
   "outputs": [
    {
     "data": {
      "text/latex": [
       "$$\\left[\\begin{matrix}1\\\\0\\\\-2\\end{matrix}\\right]$$"
      ],
      "text/plain": [
       "⎡1 ⎤\n",
       "⎢  ⎥\n",
       "⎢0 ⎥\n",
       "⎢  ⎥\n",
       "⎣-2⎦"
      ]
     },
     "execution_count": 27,
     "metadata": {},
     "output_type": "execute_result"
    }
   ],
   "source": [
    "B=np.array([[1],[0],[-2]])\n",
    "sprint(B)"
   ]
  },
  {
   "cell_type": "code",
   "execution_count": 28,
   "metadata": {
    "collapsed": true
   },
   "outputs": [],
   "source": [
    "A_diag,V=np.linalg.eig( A )"
   ]
  },
  {
   "cell_type": "code",
   "execution_count": 36,
   "metadata": {},
   "outputs": [
    {
     "data": {
      "text/latex": [
       "$$\\left[\\begin{matrix}11.1\\\\0.9\\\\5.0\\end{matrix}\\right]$$"
      ],
      "text/plain": [
       "⎡11.1⎤\n",
       "⎢    ⎥\n",
       "⎢0.9 ⎥\n",
       "⎢    ⎥\n",
       "⎣5.0 ⎦"
      ]
     },
     "execution_count": 36,
     "metadata": {},
     "output_type": "execute_result"
    }
   ],
   "source": [
    "sprint(A_diag.round(2))"
   ]
  },
  {
   "cell_type": "code",
   "execution_count": 30,
   "metadata": {},
   "outputs": [
    {
     "data": {
      "text/latex": [
       "$$\\left[\\begin{matrix}-0.50719112448443 & -0.61867371307032 & -0.6\\\\0.7733421413379 & -0.63398890560554 & 0.0\\\\-0.38039334336332 & -0.46400528480274 & 0.8\\end{matrix}\\right]$$"
      ],
      "text/plain": [
       "⎡-0.50719112448443  -0.61867371307032  -0.6⎤\n",
       "⎢                                          ⎥\n",
       "⎢ 0.7733421413379   -0.63398890560554  0.0 ⎥\n",
       "⎢                                          ⎥\n",
       "⎣-0.38039334336332  -0.46400528480274  0.8 ⎦"
      ]
     },
     "execution_count": 30,
     "metadata": {},
     "output_type": "execute_result"
    }
   ],
   "source": [
    "sprint(V.round(14))"
   ]
  },
  {
   "cell_type": "markdown",
   "metadata": {},
   "source": [
    "We first check the proper order of the diagonalization"
   ]
  },
  {
   "cell_type": "code",
   "execution_count": 42,
   "metadata": {},
   "outputs": [
    {
     "data": {
      "text/latex": [
       "$$\\left[\\begin{matrix}1.0 & 0.0 & 0.0\\\\0.0 & 1.0 & 0.0\\\\0.0 & 0.0 & 1.0\\end{matrix}\\right]$$"
      ],
      "text/plain": [
       "⎡1.0  0.0  0.0⎤\n",
       "⎢             ⎥\n",
       "⎢0.0  1.0  0.0⎥\n",
       "⎢             ⎥\n",
       "⎣0.0  0.0  1.0⎦"
      ]
     },
     "execution_count": 42,
     "metadata": {},
     "output_type": "execute_result"
    }
   ],
   "source": [
    "sprint(np.dot(V.transpose(),V).round(14))"
   ]
  },
  {
   "cell_type": "code",
   "execution_count": 39,
   "metadata": {},
   "outputs": [
    {
     "data": {
      "text/latex": [
       "$$\\left[\\begin{matrix}11.0990195135928 & 0.0 & 0.0\\\\0.0 & 0.90098048640722 & 0.0\\\\0.0 & 0.0 & 5.0\\end{matrix}\\right]$$"
      ],
      "text/plain": [
       "⎡11.0990195135928        0.0         0.0⎤\n",
       "⎢                                       ⎥\n",
       "⎢      0.0         0.90098048640722  0.0⎥\n",
       "⎢                                       ⎥\n",
       "⎣      0.0               0.0         5.0⎦"
      ]
     },
     "execution_count": 39,
     "metadata": {},
     "output_type": "execute_result"
    }
   ],
   "source": [
    "sprint(np.dot(  np.dot( V.transpose(),A  ), V).round(14))"
   ]
  },
  {
   "cell_type": "markdown",
   "metadata": {},
   "source": [
    "If we make\n",
    "$$ \\boldsymbol{U}=[\\boldsymbol{U}_1,\\boldsymbol{U}_2,\\boldsymbol{U}_3], \\qquad \\boldsymbol{V}=[\\boldsymbol{V}_1,\\boldsymbol{V}_2,\\boldsymbol{V}_3] $$\n",
    "\n",
    "We know that there exists a bi-diagonal transformación such that\n",
    "\\begin{equation}\n",
    "  \\boldsymbol{A}\\,\\boldsymbol{U}=\\boldsymbol{V}\\boldsymbol{A}_{\\text{diag}}\n",
    "\\end{equation}\n",
    "\\begin{equation}\n",
    "  \\boldsymbol{A}\\,\\boldsymbol{U}_i=\\lambda_i\\boldsymbol{V}_i\n",
    "\\end{equation}"
   ]
  },
  {
   "cell_type": "markdown",
   "metadata": {},
   "source": [
    "We can use this to check the proper order of the eigenvalues"
   ]
  },
  {
   "cell_type": "markdown",
   "metadata": {},
   "source": [
    "Since"
   ]
  },
  {
   "cell_type": "code",
   "execution_count": 53,
   "metadata": {},
   "outputs": [
    {
     "data": {
      "text/latex": [
       "$$\\left ( \\left[\\begin{matrix}-0.50719112448443\\\\0.773342141337902\\\\-0.380393343363323\\end{matrix}\\right], \\quad \\left[\\begin{matrix}-0.618673713070322\\\\-0.633988905605538\\\\-0.464005284802741\\end{matrix}\\right], \\quad \\left[\\begin{matrix}-0.6\\\\1.91548673921395 \\cdot 10^{-16}\\\\0.8\\end{matrix}\\right]\\right )$$"
      ],
      "text/plain": [
       "⎛⎡-0.50719112448443 ⎤  ⎡-0.618673713070322⎤  ⎡        -0.6        ⎤⎞\n",
       "⎜⎢                  ⎥  ⎢                  ⎥  ⎢                    ⎥⎟\n",
       "⎜⎢0.773342141337902 ⎥, ⎢-0.633988905605538⎥, ⎢1.91548673921395e-16⎥⎟\n",
       "⎜⎢                  ⎥  ⎢                  ⎥  ⎢                    ⎥⎟\n",
       "⎝⎣-0.380393343363323⎦  ⎣-0.464005284802741⎦  ⎣        0.8         ⎦⎠"
      ]
     },
     "execution_count": 53,
     "metadata": {},
     "output_type": "execute_result"
    }
   ],
   "source": [
    "V0=np.reshape( V[:,0],(3,1))\n",
    "V1=np.reshape( V[:,1],(3,1))\n",
    "V2=np.reshape( V[:,2],(3,1))\n",
    "#display(V1)\n",
    "#display(V2)\n",
    "#V3\n",
    "sprint(V0),sprint(V1),sprint(V2)"
   ]
  },
  {
   "cell_type": "code",
   "execution_count": 56,
   "metadata": {},
   "outputs": [
    {
     "data": {
      "text/latex": [
       "$$\\left[\\begin{matrix}-5.62932418777376\\\\8.58333951739301\\\\-4.22199314083032\\end{matrix}\\right]$$"
      ],
      "text/plain": [
       "⎡-5.62932418777376⎤\n",
       "⎢                 ⎥\n",
       "⎢8.58333951739301 ⎥\n",
       "⎢                 ⎥\n",
       "⎣-4.22199314083032⎦"
      ]
     },
     "execution_count": 56,
     "metadata": {},
     "output_type": "execute_result"
    }
   ],
   "source": [
    "sprint(np.dot(A,V0))"
   ]
  },
  {
   "cell_type": "code",
   "execution_count": 57,
   "metadata": {},
   "outputs": [
    {
     "data": {
      "text/latex": [
       "$$\\left[\\begin{matrix}-5.62932418777376\\\\8.58333951739301\\\\-4.22199314083032\\end{matrix}\\right]$$"
      ],
      "text/plain": [
       "⎡-5.62932418777376⎤\n",
       "⎢                 ⎥\n",
       "⎢8.58333951739301 ⎥\n",
       "⎢                 ⎥\n",
       "⎣-4.22199314083032⎦"
      ]
     },
     "execution_count": 57,
     "metadata": {},
     "output_type": "execute_result"
    }
   ],
   "source": [
    "sprint(A_diag[0]*V0)"
   ]
  },
  {
   "cell_type": "code",
   "execution_count": 58,
   "metadata": {},
   "outputs": [
    {
     "data": {
      "text/latex": [
       "$$\\left[\\begin{matrix}-0.557412942929459\\\\-0.571211632549253\\\\-0.418059707197094\\end{matrix}\\right]$$"
      ],
      "text/plain": [
       "⎡-0.557412942929459⎤\n",
       "⎢                  ⎥\n",
       "⎢-0.571211632549253⎥\n",
       "⎢                  ⎥\n",
       "⎣-0.418059707197094⎦"
      ]
     },
     "execution_count": 58,
     "metadata": {},
     "output_type": "execute_result"
    }
   ],
   "source": [
    "sprint(np.dot(A,V1))"
   ]
  },
  {
   "cell_type": "code",
   "execution_count": 59,
   "metadata": {},
   "outputs": [
    {
     "data": {
      "text/latex": [
       "$$\\left[\\begin{matrix}-0.557412942929456\\\\-0.571211632549255\\\\-0.418059707197092\\end{matrix}\\right]$$"
      ],
      "text/plain": [
       "⎡-0.557412942929456⎤\n",
       "⎢                  ⎥\n",
       "⎢-0.571211632549255⎥\n",
       "⎢                  ⎥\n",
       "⎣-0.418059707197092⎦"
      ]
     },
     "execution_count": 59,
     "metadata": {},
     "output_type": "execute_result"
    }
   ],
   "source": [
    "sprint(A_diag[1]*V1)"
   ]
  },
  {
   "cell_type": "code",
   "execution_count": 60,
   "metadata": {},
   "outputs": [
    {
     "data": {
      "text/latex": [
       "$$\\left[\\begin{matrix}-3.0\\\\3.11719755685002 \\cdot 10^{-15}\\\\4.0\\end{matrix}\\right]$$"
      ],
      "text/plain": [
       "⎡        -3.0        ⎤\n",
       "⎢                    ⎥\n",
       "⎢3.11719755685002e-15⎥\n",
       "⎢                    ⎥\n",
       "⎣        4.0         ⎦"
      ]
     },
     "execution_count": 60,
     "metadata": {},
     "output_type": "execute_result"
    }
   ],
   "source": [
    "sprint(np.dot(A,V2))"
   ]
  },
  {
   "cell_type": "code",
   "execution_count": 61,
   "metadata": {},
   "outputs": [
    {
     "data": {
      "text/latex": [
       "$$\\left[\\begin{matrix}-3.0\\\\9.57743369606976 \\cdot 10^{-16}\\\\4.0\\end{matrix}\\right]$$"
      ],
      "text/plain": [
       "⎡        -3.0        ⎤\n",
       "⎢                    ⎥\n",
       "⎢9.57743369606976e-16⎥\n",
       "⎢                    ⎥\n",
       "⎣        4.0         ⎦"
      ]
     },
     "execution_count": 61,
     "metadata": {},
     "output_type": "execute_result"
    }
   ],
   "source": [
    "sprint(A_diag[2]*V2)"
   ]
  },
  {
   "cell_type": "code",
   "execution_count": 81,
   "metadata": {
    "scrolled": true
   },
   "outputs": [
    {
     "data": {
      "text/latex": [
       "$$\\left[\\begin{matrix}11.0990195135928 & 0.0 & 0.0\\\\0.0 & 0.90098048640722 & 0.0\\\\0.0 & 0.0 & 5.0\\end{matrix}\\right]$$"
      ],
      "text/plain": [
       "⎡11.0990195135928        0.0         0.0⎤\n",
       "⎢                                       ⎥\n",
       "⎢      0.0         0.90098048640722  0.0⎥\n",
       "⎢                                       ⎥\n",
       "⎣      0.0               0.0         5.0⎦"
      ]
     },
     "execution_count": 81,
     "metadata": {},
     "output_type": "execute_result"
    }
   ],
   "source": [
    "U=hstack((V0,V1,V2))\n",
    "sprint(np.dot(np.dot(U.transpose(),A),U).round(14))"
   ]
  },
  {
   "cell_type": "code",
   "execution_count": 84,
   "metadata": {},
   "outputs": [],
   "source": [
    "Uorder=hstack((V0,V2,V1))"
   ]
  },
  {
   "cell_type": "code",
   "execution_count": 116,
   "metadata": {},
   "outputs": [
    {
     "data": {
      "text/latex": [
       "$$\\left[\\begin{matrix}11.0990195135928 & 0.0 & 0.0\\\\0.0 & 5.0 & 0.0\\\\0.0 & 0.0 & 0.90098048640722\\end{matrix}\\right]$$"
      ],
      "text/plain": [
       "⎡11.0990195135928  0.0        0.0       ⎤\n",
       "⎢                                       ⎥\n",
       "⎢      0.0         5.0        0.0       ⎥\n",
       "⎢                                       ⎥\n",
       "⎣      0.0         0.0  0.90098048640722⎦"
      ]
     },
     "execution_count": 116,
     "metadata": {},
     "output_type": "execute_result"
    }
   ],
   "source": [
    "sprint(np.dot(np.dot(Uorder.transpose(),A),Uorder).round(14))"
   ]
  },
  {
   "cell_type": "code",
   "execution_count": 140,
   "metadata": {},
   "outputs": [],
   "source": [
    "Bp=np.dot(np.linalg.inv(V),B)\n",
    "Xp=np.dot(np.linalg.inv(np.diag(A_diag)),Bp).round(14)"
   ]
  },
  {
   "cell_type": "code",
   "execution_count": 141,
   "metadata": {},
   "outputs": [
    {
     "data": {
      "text/latex": [
       "$$\\left[\\begin{matrix}0.02284846530197\\\\0.34333358069572\\\\-0.44\\end{matrix}\\right]$$"
      ],
      "text/plain": [
       "⎡0.02284846530197⎤\n",
       "⎢                ⎥\n",
       "⎢0.34333358069572⎥\n",
       "⎢                ⎥\n",
       "⎣     -0.44      ⎦"
      ]
     },
     "execution_count": 141,
     "metadata": {},
     "output_type": "execute_result"
    }
   ],
   "source": [
    "sprint(Xp)"
   ]
  },
  {
   "cell_type": "code",
   "execution_count": 150,
   "metadata": {},
   "outputs": [
    {
     "data": {
      "text/latex": [
       "$$\\left[\\begin{matrix}0.04\\\\-0.2\\\\-0.52\\end{matrix}\\right]$$"
      ],
      "text/plain": [
       "⎡0.04 ⎤\n",
       "⎢     ⎥\n",
       "⎢-0.2 ⎥\n",
       "⎢     ⎥\n",
       "⎣-0.52⎦"
      ]
     },
     "execution_count": 150,
     "metadata": {},
     "output_type": "execute_result"
    }
   ],
   "source": [
    "X=np.dot(V,Xp).round(2)\n",
    "sprint(X)"
   ]
  },
  {
   "cell_type": "code",
   "execution_count": 147,
   "metadata": {},
   "outputs": [
    {
     "data": {
      "text/latex": [
       "$$\\left[\\begin{matrix}1.0\\\\0.0\\\\-2.0\\end{matrix}\\right]$$"
      ],
      "text/plain": [
       "⎡1.0 ⎤\n",
       "⎢    ⎥\n",
       "⎢0.0 ⎥\n",
       "⎢    ⎥\n",
       "⎣-2.0⎦"
      ]
     },
     "execution_count": 147,
     "metadata": {},
     "output_type": "execute_result"
    }
   ],
   "source": [
    "sprint(np.dot(A,X).round(14))"
   ]
  },
  {
   "cell_type": "code",
   "execution_count": 148,
   "metadata": {},
   "outputs": [
    {
     "data": {
      "text/latex": [
       "$$\\left[\\begin{matrix}1\\\\0\\\\-2\\end{matrix}\\right]$$"
      ],
      "text/plain": [
       "⎡1 ⎤\n",
       "⎢  ⎥\n",
       "⎢0 ⎥\n",
       "⎢  ⎥\n",
       "⎣-2⎦"
      ]
     },
     "execution_count": 148,
     "metadata": {},
     "output_type": "execute_result"
    }
   ],
   "source": [
    "sprint(B)"
   ]
  },
  {
   "cell_type": "code",
   "execution_count": null,
   "metadata": {
    "collapsed": true
   },
   "outputs": [],
   "source": []
  }
 ],
 "metadata": {
  "kernelspec": {
   "display_name": "Python 2",
   "language": "python",
   "name": "python2"
  },
  "language_info": {
   "codemirror_mode": {
    "name": "ipython",
    "version": 2
   },
   "file_extension": ".py",
   "mimetype": "text/x-python",
   "name": "python",
   "nbconvert_exporter": "python",
   "pygments_lexer": "ipython2",
   "version": "2.7.9"
  },
  "toc": {
   "colors": {
    "hover_highlight": "#DAA520",
    "running_highlight": "#FF0000",
    "selected_highlight": "#FFD700"
   },
   "moveMenuLeft": true,
   "nav_menu": {
    "height": "0px",
    "width": "0px"
   },
   "navigate_menu": true,
   "number_sections": true,
   "sideBar": true,
   "threshold": 4,
   "toc_cell": false,
   "toc_section_display": "block",
   "toc_window_display": false
  }
 },
 "nbformat": 4,
 "nbformat_minor": 1
}

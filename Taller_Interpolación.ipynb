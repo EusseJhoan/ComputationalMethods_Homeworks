{
 "cells": [
  {
   "cell_type": "code",
   "execution_count": 19,
   "metadata": {},
   "outputs": [
    {
     "name": "stdout",
     "output_type": "stream",
     "text": [
      "Populating the interactive namespace from numpy and matplotlib\n"
     ]
    }
   ],
   "source": [
    "%pylab inline\n",
    "import numpy as np\n",
    "import matplotlib.pyplot as plt\n",
    "import scipy.integrate as integrate\n",
    "import scipy.special as special\n",
    "from scipy.optimize import curve_fit"
   ]
  },
  {
   "cell_type": "markdown",
   "metadata": {},
   "source": [
    "# Curva rotación de Galaxias"
   ]
  },
  {
   "cell_type": "markdown",
   "metadata": {},
   "source": [
    "Una de las primeras evidencias de la existencia de la materia oscura fueron las curvas de rotación planas de las \n",
    "galaxias espirales. Si asumimos que el presupuesto total de la masa de una galaxia está hecho enteramente de materia \n",
    "luminosa, la velocidad circular orbital de las estrellas alrededor del plano de la galaxia debería decaer de acuerdo \n",
    "con un potencial de Keplerian. Sin embargo, este no es el caso y la velocidad circular apenas disminuye en un radio \n",
    "mayor, lo que indica la presencia de un nuevo componente de materia no visible (materia oscura). Cuando es necesario \n",
    "determinar qué tan masivo es el halo de materia oscura que incrusta una galaxia, se requiere una integración de la \n",
    "velocidad circular. Sin embargo, debido a la disposición finita de una cámara CCD, solo se puede medir un conjunto \n",
    "discreto de velocidades y se requieren técnicas de interpolación.\n",
    "\n",
    "En esta actividad tomaremos un conjunto de datos discretos de la velocidad circular en función del radio de la galaxia NGC 2403."
   ]
  },
  {
   "cell_type": "markdown",
   "metadata": {},
   "source": [
    "1. Realizaremos una interpolación tanto lineal como de Lagrange a la galaxia NGC 2403.\n",
    "\n",
    "2. Suponga que posee los siguientes modelos de galaxias:\n",
    "\n",
    "a. Suponga que el disco es un disco exponencial y que el halo de materia oscura sigue un perfil de densidad de Hernquist (ese será su modelo, los parámetros del disco y del halo serán los parámetros del modelo). Suponga además que la galaxia no tiene bulbo.\n",
    "\n",
    "b. Suponga que el disco es un disco exponencial,  el bulbo sigue un perfil de densidad de Hernquist. y que el halo de materia oscura sigue un perfil de densidad de Navarro-Frenk-White (NFW)\n",
    "\n",
    "Ajuste la curva de rotación observada a cada modelo y obtenga los parámetros estructurales de la galaxia ($\\rho_0$, $a$, $R_s$, $h$, $\\Sigma_0$) .\n",
    "\n",
    "Para imponer restricciones (constraints) sobre los valores que deben tomar los parámetros estructurales\n",
    "del halo, primero haga un ajuste a la curva de rotación suponiendo que esta NO tiene disco.\n",
    "\n",
    "NOTA: Recuerde que los campos gravitaciones cumplen el principio de superposición.\n",
    "\n",
    "Modelo de Galaxia: https://kof.zcu.cz/st/dis/schwarzmeier/galaxy_models.html\n",
    "5.4.3 Perfil de Hernquist\n",
    "5.7 Función velocidad\n",
    "5.9.2 Disco exponencial\n",
    "\n",
    "NFW: https://en.wikipedia.org/wiki/Navarro%E2%80%93Frenk%E2%80%93White_profile"
   ]
  },
  {
   "cell_type": "markdown",
   "metadata": {},
   "source": [
    "Perfil de Navarro–Frenk–White\n",
    "\n",
    "\\begin{equation}\n",
    "\\rho (r) = \\frac{\\rho_0}{\\frac{r}{R_s}\\left(1+\\frac{r}{R_s}\\right)^2}\\,,\n",
    "\\end{equation}\n",
    "\\begin{equation}\n",
    "M = 4 \\pi \\rho_0 R_s^3 \\left[ \\ln \\left(\\frac{R_s + r}{R_s} \\right) - \\frac{r}{R_s + r}\\right] \\,.\n",
    "\\end{equation}"
   ]
  },
  {
   "cell_type": "markdown",
   "metadata": {},
   "source": [
    "Perfil de Disk\n",
    "\n",
    "\\begin{equation}\n",
    "\\Sigma (r) = \\Sigma _0 e^{r/h}\\,,\n",
    "\\end{equation}\n",
    "\n",
    "\\begin{equation}\n",
    "M = 2 \\pi \\Sigma_0 y (I_0(y)K_0(y)-I_1(y)K_1(y))\\,.\n",
    "\\end{equation}\n",
    "Con $ y = \\frac{r}{2h} $\n",
    "\n",
    "las funciones $I_0(x)$ y $K_0(x)$ son las funciones de Bessel modificadas de 1er y 2da especie. \n",
    "utilice las funciones de scipy.special iv(n, x) y kv(n, x), donde $n$ hace referencia al orden de la función (n=0 ó 1) y $x$ al valor en el cual se desea valor la función"
   ]
  },
  {
   "cell_type": "markdown",
   "metadata": {},
   "source": [
    "Perfil de Hernquist\n",
    "\n",
    "\\begin{equation}\n",
    "\\rho (r) = \\frac{4 \\pi \\rho_0}{3}\\frac{a^4}{r}\\frac{1}{(r+a)^3}\\,,\n",
    "\\end{equation}\n",
    "\n",
    "\\begin{equation}\n",
    "M = \\frac{4 \\rho_0 \\pi a r^2}{\\left( 1 + \\frac{r}{a} \\right)^2}\\,.\n",
    "\\end{equation}"
   ]
  },
  {
   "cell_type": "code",
   "execution_count": 25,
   "metadata": {
    "collapsed": true
   },
   "outputs": [
    {
     "data": {
      "text/plain": [
       "[<matplotlib.lines.Line2D at 0x7fcbea672fd0>]"
      ]
     },
     "execution_count": 25,
     "metadata": {},
     "output_type": "execute_result"
    },
    {
     "data": {
      "image/png": "[encoded data removed]",
      "text/plain": [
       "<matplotlib.figure.Figure at 0x7fcbea6a3e80>"
      ]
     },
     "metadata": {},
     "output_type": "display_data"
    }
   ],
   "source": [
    "r, vr = np.loadtxt('2403.dat', usecols=(0,1), unpack=True, comments='#')\n",
    "plt.plot(r,vr)"
   ]
  },
  {
   "cell_type": "code",
   "execution_count": 26,
   "metadata": {},
   "outputs": [],
   "source": [
    "G=\n",
    "R = np.linspace(r[1],r[-1], num=len(r))\n",
    "guess=[14.,4.18e6]"
   ]
  },
  {
   "cell_type": "code",
   "execution_count": 29,
   "metadata": {},
   "outputs": [],
   "source": [
    "def NFW(r,A,rho):\n",
    "    vc2= 4.0*A**3*G*np.pi*rho((A+r)*np.log((A+r)/A)-r)/(r*(A+r))\n",
    "    return vc2"
   ]
  },
  {
   "cell_type": "code",
   "execution_count": 31,
   "metadata": {},
   "outputs": [
    {
     "ename": "SyntaxError",
     "evalue": "invalid syntax (<ipython-input-31-3ec3b3822a88>, line 2)",
     "output_type": "error",
     "traceback": [
      "\u001b[0;36m  File \u001b[0;32m\"<ipython-input-31-3ec3b3822a88>\"\u001b[0;36m, line \u001b[0;32m2\u001b[0m\n\u001b[0;31m    vc2=np.pi*G*Sigma0*r*(r/Rd)*(special.iv(0,r/(2.0*Rd))*special.kv(0,r/82.0*Rd))     -special.iv(1,r/(2.0*Rd))*special.kv(1,r/*(2.0*Rd))\u001b[0m\n\u001b[0m                                                                                                                                ^\u001b[0m\n\u001b[0;31mSyntaxError\u001b[0m\u001b[0;31m:\u001b[0m invalid syntax\n"
     ]
    }
   ],
   "source": [
    "def Disk(r,Rd,sigma0):\n",
    "    vc2=np.pi*G*Sigma0*r*(r/Rd)*(special.iv(0,r/(2.0*Rd))*special.kv(0,r/82.0*Rd))\n",
    "     -special.iv(1,r/(2.0*Rd))*special.kv(1,r/*(2.0*Rd))\n",
    "    return vc2"
   ]
  },
  {
   "cell_type": "code",
   "execution_count": null,
   "metadata": {
    "collapsed": true
   },
   "outputs": [],
   "source": []
  }
 ],
 "metadata": {
  "kernelspec": {
   "display_name": "Python 3",
   "language": "python",
   "name": "python3"
  },
  "language_info": {
   "codemirror_mode": {
    "name": "ipython",
    "version": 3
   },
   "file_extension": ".py",
   "mimetype": "text/x-python",
   "name": "python",
   "nbconvert_exporter": "python",
   "pygments_lexer": "ipython3",
   "version": "3.4.2"
  }
 },
 "nbformat": 4,
 "nbformat_minor": 1
}

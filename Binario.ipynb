{
 "cells": [
  {
   "cell_type": "code",
   "execution_count": 1,
   "metadata": {},
   "outputs": [
    {
     "name": "stdout",
     "output_type": "stream",
     "text": [
      "0.15625\n"
     ]
    }
   ],
   "source": [
    "def number32(sb):\n",
    "    \n",
    "    if type(sb)!=str:\n",
    "        sys.exit('Error. The binary must by a string')\n",
    "        \n",
    "    bs=sb[::-1]\n",
    "    \n",
    "    s=int(bs[-1])\n",
    "    fraction=1\n",
    "    e=0\n",
    "    \n",
    "    for i in range(1,24):\n",
    "        fraction += int(bs[23-i]) * (2**(-i))\n",
    "    \n",
    "        \n",
    "    for i in range (8):\n",
    "        e += int(bs[23+i]) * (2**i)\n",
    "        \n",
    "        \n",
    "    r = (-1)**s * fraction * (2**(e-127))\n",
    "    \n",
    "    return(r)\n",
    "\n",
    "\n",
    "print(number32(\"00111110001000000000000000000000\"))\n",
    "        "
   ]
  },
  {
   "cell_type": "code",
   "execution_count": null,
   "metadata": {
    "collapsed": true
   },
   "outputs": [],
   "source": []
  },
  {
   "cell_type": "code",
   "execution_count": null,
   "metadata": {
    "collapsed": true
   },
   "outputs": [],
   "source": []
  }
 ],
 "metadata": {
  "kernelspec": {
   "display_name": "Python 3",
   "language": "python",
   "name": "python3"
  },
  "language_info": {
   "codemirror_mode": {
    "name": "ipython",
    "version": 3
   },
   "file_extension": ".py",
   "mimetype": "text/x-python",
   "name": "python",
   "nbconvert_exporter": "python",
   "pygments_lexer": "ipython3",
   "version": "3.4.2"
  }
 },
 "nbformat": 4,
 "nbformat_minor": 2
}

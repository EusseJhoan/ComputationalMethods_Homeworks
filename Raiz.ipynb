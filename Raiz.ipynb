{
 "cells": [
  {
   "cell_type": "markdown",
   "metadata": {},
   "source": [
    "<font color='red'>\n",
    "In an IPython notebook, use the scipy implementation and find the first solution to the equation\n",
    "    \n",
    "$ 7 = \\sqrt{x^2+1}+e^x\\sin x $\n",
    "    \n",
    "CLUE: Check graphically (with numpy) that the solution is within the interval $[0,2]$.\n",
    "</font>"
   ]
  },
  {
   "cell_type": "code",
   "execution_count": 2,
   "metadata": {},
   "outputs": [
    {
     "name": "stdout",
     "output_type": "stream",
     "text": [
      "Populating the interactive namespace from numpy and matplotlib\n"
     ]
    }
   ],
   "source": [
    "%pylab inline "
   ]
  },
  {
   "cell_type": "code",
   "execution_count": 12,
   "metadata": {},
   "outputs": [
    {
     "data": {
      "image/png": "[encoded data removed]",
      "text/plain": [
       "<matplotlib.figure.Figure at 0x7eff5dad67f0>"
      ]
     },
     "metadata": {},
     "output_type": "display_data"
    }
   ],
   "source": [
    "x=np.arange(0,2,0.005)\n",
    "y=x[np.logical_and(x>1.6,x<1.64)]\n",
    "plt.plot(x,np.sqrt(x**2+1)+np.sin(x)*np.exp(x)-7, 'r-')\n",
    "plt.plot(y,np.sqrt(y**2+1)+np.sin(y)*np.exp(y)-7, 'ko')\n",
    "plt.xlim(1.5,1.75)\n",
    "plt.ylim(-1,1)\n",
    "plt.grid()"
   ]
  },
  {
   "cell_type": "code",
   "execution_count": null,
   "metadata": {
    "collapsed": true
   },
   "outputs": [],
   "source": []
  }
 ],
 "metadata": {
  "kernelspec": {
   "display_name": "Python 3",
   "language": "python",
   "name": "python3"
  },
  "language_info": {
   "codemirror_mode": {
    "name": "ipython",
    "version": 3
   },
   "file_extension": ".py",
   "mimetype": "text/x-python",
   "name": "python",
   "nbconvert_exporter": "python",
   "pygments_lexer": "ipython3",
   "version": "3.4.2"
  }
 },
 "nbformat": 4,
 "nbformat_minor": 2
}

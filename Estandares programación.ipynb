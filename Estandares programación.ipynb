{
 "cells": [
  {
   "cell_type": "code",
   "execution_count": 6,
   "metadata": {},
   "outputs": [
    {
     "name": "stdout",
     "output_type": "stream",
     "text": [
      "Populating the interactive namespace from numpy and matplotlib\n"
     ]
    },
    {
     "name": "stderr",
     "output_type": "stream",
     "text": [
      "/usr/local/lib/python3.4/dist-packages/IPython/core/magics/pylab.py:160: UserWarning: pylab import has clobbered these variables: ['f']\n",
      "`%matplotlib` prevents importing * from pylab and numpy\n",
      "  \"\\n`%matplotlib` prevents importing * from pylab and numpy\"\n"
     ]
    }
   ],
   "source": [
    "%pylab inline"
   ]
  },
  {
   "cell_type": "code",
   "execution_count": 1,
   "metadata": {
    "collapsed": true
   },
   "outputs": [],
   "source": [
    "def f(*args,**kwargs):\n",
    "    if args:\n",
    "        print('*args is the list of mandatory arguments: {}'.format(args))\n",
    "        print('This allows to have a dynamic return according to input:')\n",
    "        return type(args[0])\n",
    "    if kwargs:\n",
    "        print('*kwargs is the dictionary of optional arguments: {}'.format(kwargs))\n",
    "        print('This allows to have a dynamic return according to input:')\n",
    "        return type(kwargs.keys()[0]),type(kwargs.values()[0])"
   ]
  },
  {
   "cell_type": "code",
   "execution_count": 2,
   "metadata": {
    "collapsed": true
   },
   "outputs": [],
   "source": [
    "f()"
   ]
  },
  {
   "cell_type": "code",
   "execution_count": 3,
   "metadata": {},
   "outputs": [
    {
     "name": "stdout",
     "output_type": "stream",
     "text": [
      "*args is the list of mandatory arguments: (1,)\n",
      "This allows to have a dynamic return according to input:\n"
     ]
    },
    {
     "data": {
      "text/plain": [
       "int"
      ]
     },
     "execution_count": 3,
     "metadata": {},
     "output_type": "execute_result"
    }
   ],
   "source": [
    "f(1)"
   ]
  },
  {
   "cell_type": "code",
   "execution_count": 4,
   "metadata": {},
   "outputs": [
    {
     "name": "stdout",
     "output_type": "stream",
     "text": [
      "*args is the list of mandatory arguments: ([1, 2, 3],)\n",
      "This allows to have a dynamic return according to input:\n"
     ]
    },
    {
     "data": {
      "text/plain": [
       "list"
      ]
     },
     "execution_count": 4,
     "metadata": {},
     "output_type": "execute_result"
    }
   ],
   "source": [
    "f([1,2,3])"
   ]
  },
  {
   "cell_type": "markdown",
   "metadata": {},
   "source": [
    "## Vectorizar "
   ]
  },
  {
   "cell_type": "code",
   "execution_count": 8,
   "metadata": {},
   "outputs": [
    {
     "data": {
      "text/plain": [
       "array([ 0.54030231,  0.36235775])"
      ]
     },
     "execution_count": 8,
     "metadata": {},
     "output_type": "execute_result"
    }
   ],
   "source": [
    "from scipy.misc import derivative\n",
    "array_derivate=np.vectorize(derivative)\n",
    "array_derivate(np.sin,[1,1.2],dx=1E-6)"
   ]
  },
  {
   "cell_type": "code",
   "execution_count": null,
   "metadata": {
    "collapsed": true
   },
   "outputs": [],
   "source": [
    "def derivate(func,x0,**kwargs):\n",
    "    '''\n",
    "    Vectorized replacement of scipy.misc derivative:\n",
    "        from scipy.misc import derivative\n",
    "    For usage check the derivative help, e.g, in jupyter: \n",
    "        from scipy.misc import derivative\n",
    "        derivative?\n",
    "    '''\n",
    "    from scipy.misc import derivative\n",
    "    try:\n",
    "        nn=np.array(x0).shape[0]\n",
    "        fp=np.vectorize(derivative)\n",
    "    except IndexError:\n",
    "        fp=derivative\n",
    "        \n",
    "    return fp(func,x0,**kwargs)"
   ]
  }
 ],
 "metadata": {
  "kernelspec": {
   "display_name": "Python 3",
   "language": "python",
   "name": "python3"
  },
  "language_info": {
   "codemirror_mode": {
    "name": "ipython",
    "version": 3
   },
   "file_extension": ".py",
   "mimetype": "text/x-python",
   "name": "python",
   "nbconvert_exporter": "python",
   "pygments_lexer": "ipython3",
   "version": "3.4.2"
  }
 },
 "nbformat": 4,
 "nbformat_minor": 2
}

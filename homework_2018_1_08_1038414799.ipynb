{
 "cells": [
  {
   "cell_type": "code",
   "execution_count": 13,
   "metadata": {},
   "outputs": [
    {
     "name": "stdout",
     "output_type": "stream",
     "text": [
      "Populating the interactive namespace from numpy and matplotlib\n"
     ]
    }
   ],
   "source": [
    "%pylab inline \n",
    "import sympy\n",
    "sympy.init_printing()"
   ]
  },
  {
   "cell_type": "code",
   "execution_count": 15,
   "metadata": {},
   "outputs": [
    {
     "data": {
      "text/latex": [
       "$$\\left[\\begin{matrix}5.0 & -4.0 & 0.0 & 1.0\\\\-4.0 & 7.0 & -3.0 & 0.0\\\\0.0 & -3.0 & 5.0 & -2.0\\end{matrix}\\right]$$"
      ],
      "text/plain": [
       "⎡5.0   -4.0  0.0   1.0 ⎤\n",
       "⎢                      ⎥\n",
       "⎢-4.0  7.0   -3.0  0.0 ⎥\n",
       "⎢                      ⎥\n",
       "⎣0.0   -3.0  5.0   -2.0⎦"
      ]
     },
     "execution_count": 15,
     "metadata": {},
     "output_type": "execute_result"
    }
   ],
   "source": [
    "M=np.matrix([[5.,-4.,0],[-4.,7.,-3.],[0,-3.,5.]])#Matrix\n",
    "Ma=np.column_stack((M,[1.,0,-2]))#Augmented matrix\n",
    "sympy.Matrix(Ma)#Print matrix with sympy "
   ]
  }
 ],
 "metadata": {
  "kernelspec": {
   "display_name": "Python 3",
   "language": "python",
   "name": "python3"
  },
  "language_info": {
   "codemirror_mode": {
    "name": "ipython",
    "version": 3
   },
   "file_extension": ".py",
   "mimetype": "text/x-python",
   "name": "python",
   "nbconvert_exporter": "python",
   "pygments_lexer": "ipython3",
   "version": "3.4.2"
  }
 },
 "nbformat": 4,
 "nbformat_minor": 2
}

{
 "cells": [
  {
   "cell_type": "code",
   "execution_count": 9,
   "metadata": {},
   "outputs": [
    {
     "name": "stdout",
     "output_type": "stream",
     "text": [
      "Populating the interactive namespace from numpy and matplotlib\n"
     ]
    }
   ],
   "source": [
    "%pylab inline\n",
    "import pandas as pd\n",
    "from scipy import optimize"
   ]
  },
  {
   "cell_type": "code",
   "execution_count": 10,
   "metadata": {
    "collapsed": true
   },
   "outputs": [],
   "source": [
    "df= pd.DataFrame({'X':[0.3,0.5,1.3,3.2,4.5,5.2,6.0,7.5], 'Y':[0.11406,-0.1775,-1.87334,2.30704,24.8025,150.45,160.564,0.847]})"
   ]
  },
  {
   "cell_type": "code",
   "execution_count": 11,
   "metadata": {
    "collapsed": true
   },
   "outputs": [],
   "source": [
    "#Interpolacion de puntos\n",
    "S=np.polyfit(df.X,df.Y,deg=7)\n",
    "P=np.poly1d(S)      "
   ]
  },
  {
   "cell_type": "code",
   "execution_count": 12,
   "metadata": {},
   "outputs": [
    {
     "data": {
      "text/plain": [
       "<matplotlib.legend.Legend at 0x7f11eb0f6a20>"
      ]
     },
     "execution_count": 12,
     "metadata": {},
     "output_type": "execute_result"
    },
    {
     "data": {
      "image/png": "[encoded data removed]",
      "text/plain": [
       "<matplotlib.figure.Figure at 0x7f11eb1ec550>"
      ]
     },
     "metadata": {},
     "output_type": "display_data"
    }
   ],
   "source": [
    "#Grafica de puntos\n",
    "x=np.linspace(df.X[0],df.X[7])\n",
    "plt.plot(df.X,df.Y, \"or\", label=\"Puntos\")\n",
    "plt.plot(x,P(x), \"-b\", label=\"Polinomio de interpolación\")\n",
    "plt.legend()"
   ]
  },
  {
   "cell_type": "code",
   "execution_count": 13,
   "metadata": {},
   "outputs": [
    {
     "name": "stdout",
     "output_type": "stream",
     "text": [
      "Optimization terminated successfully.\n",
      "         Current function value: -27.114802\n",
      "         Iterations: 2\n",
      "         Function evaluations: 32\n",
      "Optimization terminated successfully.\n",
      "         Current function value: -229.774318\n",
      "         Iterations: 2\n",
      "         Function evaluations: 28\n"
     ]
    }
   ],
   "source": [
    "loc=optimize.fmin_powell(P,4, full_output=True)#Minimo local\n",
    "glo=optimize.fmin_powell(P,7, full_output=True)#Minimo global"
   ]
  },
  {
   "cell_type": "code",
   "execution_count": 14,
   "metadata": {},
   "outputs": [
    {
     "name": "stdout",
     "output_type": "stream",
     "text": [
      " Minimo global=(7.119927707838121,-229.77431802644736), Minimo local=(3.8202928576617037,-27.114802418687447) \n"
     ]
    }
   ],
   "source": [
    "print(\" Minimo global=({},{}), Minimo local=({},{}) \".format(glo[0],glo[1],loc[0],loc[1]))"
   ]
  },
  {
   "cell_type": "code",
   "execution_count": null,
   "metadata": {
    "collapsed": true
   },
   "outputs": [],
   "source": []
  }
 ],
 "metadata": {
  "kernelspec": {
   "display_name": "Python 3",
   "language": "python",
   "name": "python3"
  },
  "language_info": {
   "codemirror_mode": {
    "name": "ipython",
    "version": 3
   },
   "file_extension": ".py",
   "mimetype": "text/x-python",
   "name": "python",
   "nbconvert_exporter": "python",
   "pygments_lexer": "ipython3",
   "version": "3.4.2"
  }
 },
 "nbformat": 4,
 "nbformat_minor": 2
}

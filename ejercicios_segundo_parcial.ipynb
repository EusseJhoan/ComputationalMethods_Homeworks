{
 "cells": [
  {
   "cell_type": "code",
   "execution_count": 1,
   "metadata": {},
   "outputs": [
    {
     "name": "stdout",
     "output_type": "stream",
     "text": [
      "Populating the interactive namespace from numpy and matplotlib\n"
     ]
    }
   ],
   "source": [
    "%pylab inline\n",
    "import pandas as pd \n",
    "import scipy.integrate as integrate\n",
    "import scipy.optimize as optimize"
   ]
  },
  {
   "cell_type": "markdown",
   "metadata": {},
   "source": [
    "# Activity 1\n",
    "\n",
    "  \n",
    "The Poisson's equation relates the matter content of a body with the gravitational potential through the next equation\n",
    "\n",
    "  \n",
    "$$\\nabla^2 \\phi = 4\\pi G \\rho$$\n",
    "\n",
    " \n",
    "$$\\frac{1}{r^2}\\frac{d}{dr}\\left(r^2\\frac{d\\phi}{dr}\\right)= 4\\pi G \\rho$$\n",
    "\n",
    " \n",
    "where $\\phi$ is the potential, $\\rho$ the density and $G$ the gravitational constant.\n",
    "\n",
    "  \n",
    "Taking [these data](https://raw.githubusercontent.com/sbustamante/ComputationalMethods/master/data/M1.00-STRUC.dat) and using the three-point Midpoint formula, find the density field from the potential (seventh column in the file) and plot it against the radial coordinate. (**Tip:** Use $G=1$)\n",
    "\n"
   ]
  },
  {
   "cell_type": "code",
   "execution_count": null,
   "metadata": {
    "collapsed": true
   },
   "outputs": [],
   "source": [
    "url='https://raw.githubusercontent.com/sbustamante/ComputationalMethods/master/data/M1.00-STRUC.dat'\n",
    "phi=pd.read_table(url,skiprows=[0,1,2,3,4,5,6,7,8,9,],usecols=[6])\n",
    "phi=phi.drop([0])"
   ]
  },
  {
   "cell_type": "markdown",
   "metadata": {},
   "source": [
    "# Activity 2\n",
    "\n",
    "The radar stations A and B, separated by the distance a = 500 m, track the plane\n",
    "C by recording the angles $\\alpha$ and $\\beta$ at 1-second intervals. The successive readings are \n",
    "\n",
    "![alt text](http://hub.oproject.org/user/jhoan/files/ComputationalMethods/material/figures/table.png \"Logo Title Text 1\")\n",
    "\n",
    "calculate the speed v using the 3 point approximantion at t = 10 ,12 and 14 s. Calculate the x component of the acceleration of the plane at = 12 s. The coordinates of the plane can be shown to be\n",
    "\n",
    "\\begin{equation}\n",
    "x = a\\frac{\\tan \\beta}{\\tan \\beta- \\tan \\alpha}\\\\\n",
    "y = a\\frac{\\tan \\alpha\\tan \\beta}{\\tan \\beta- \\tan \\alpha}\n",
    "\\end{equation}\n",
    "\n",
    "![alt text](http://hub.oproject.org/user/jhoan/files/ComputationalMethods/material/figures/radar.png \"Logo Title Text 1\")\n"
   ]
  },
  {
   "cell_type": "code",
   "execution_count": null,
   "metadata": {
    "collapsed": true
   },
   "outputs": [],
   "source": [
    "#Dataframe with angles and time\n",
    "ang=pd.DataFrame({'time':[9,10,11,12,13,14,15],'alfa':[54.80,54.06,53.34,53.01,52.83,52.72,52.64], 'beta':[65.59,64.59,63.62,62.91,62.67,62.03,61.65]})\n",
    "ang=ang[['time', 'alfa', 'beta']]\n",
    "a=500 #m"
   ]
  },
  {
   "cell_type": "code",
   "execution_count": null,
   "metadata": {
    "collapsed": true
   },
   "outputs": [],
   "source": [
    "#Tangent values\n",
    "tanalfa=np.tan(ang.alfa.values*(np.pi/180))\n",
    "tanbeta=np.tan(ang.beta.values*(np.pi/180))"
   ]
  },
  {
   "cell_type": "code",
   "execution_count": null,
   "metadata": {
    "collapsed": true
   },
   "outputs": [],
   "source": [
    "#Calculating position trought time\n",
    "position=pd.DataFrame({'x':a*tanbeta/(tanbeta-tanalfa), 'y':a*tanbeta*tanalfa/(tanbeta-tanalfa)})"
   ]
  },
  {
   "cell_type": "code",
   "execution_count": null,
   "metadata": {
    "collapsed": true
   },
   "outputs": [],
   "source": [
    "#Calculating velocity trought time\n",
    "velocity=pd.DataFrame({'time':[10,11,12,13,14,15],'vx':np.diff(position.x.values), 'vy':np.diff(position.y.values)})\n",
    "velocity=velocity.set_index('time')\n",
    "#Calculating aceleration trougth time\n",
    "aceleration=pd.DataFrame({'time':[11,12,13,14,15],'ax':np.diff(velocity.vx.values), 'ay':np.diff(velocity.vy.values)})\n",
    "aceleration=aceleration.set_index('time')"
   ]
  },
  {
   "cell_type": "code",
   "execution_count": null,
   "metadata": {
    "collapsed": true
   },
   "outputs": [],
   "source": [
    "print('la velocidad en 12 segundos es: {} m/s'.format(np.sqrt((velocity.get_value(12,'vx')**2) + (velocity.get_value(12,'vx')**2))))\n",
    "print('la aceleracion en x en 12 segundos es: {} m/s^2'.format(aceleration.get_value(12,'ax')))"
   ]
  },
  {
   "cell_type": "markdown",
   "metadata": {},
   "source": [
    "# Activity 3 \n",
    " \n",
    "- Using the trapezoidal and the Simpson's rules, determine the value of the integral (4.24565)\n",
    "\n",
    "$$ \\int_{-0.5}^{1.5}(1+\\cos^2x + x)dx $$"
   ]
  },
  {
   "cell_type": "code",
   "execution_count": null,
   "metadata": {
    "collapsed": true
   },
   "outputs": [],
   "source": [
    "def f(x):\n",
    "    return 1 + (np.cos(x)**2) + x "
   ]
  },
  {
   "cell_type": "code",
   "execution_count": null,
   "metadata": {
    "collapsed": true
   },
   "outputs": [],
   "source": [
    "X=np.linspace(-0.5,1.5,1000)\n",
    "plt.plot(X,f(X))\n",
    "plt.grid()\n",
    "plt.xlabel(r'$ x $', size=15)\n",
    "plt.ylabel(r'$ 1+\\cos^2x + x $', size=15)\n",
    "print('Integral usando el metodo de cuadratura {}'.format(integrate.quad(f,-0.5,1.5)[0]))\n",
    "print('Integral usando el metodo de Simpson {}'.format(integrate.simps(f(X),X)))\n",
    "print('Integral usando el metodo Trapezoidal {}'.format(integrate.trapz(f(X),X)))"
   ]
  },
  {
   "cell_type": "markdown",
   "metadata": {},
   "source": [
    "# Activity\n",
    "\n",
    "\n",
    "Approximate the following integrals using formulas Trapezoidal and Simpson rules. Are the accuracies of\n",
    "the approximations consistent with the error formulas? \n",
    "\n",
    "\\begin{eqnarray*}\n",
    "1. &\\int_{0}^{0.1}&\\sqrt{1+ x}dx \\\\\n",
    "2. &\\int_{0}^{\\pi/2}&(\\sin x)^2dx\\\\ \n",
    "3. &\\int_{1.1}^{1.5}&e^xdx \n",
    "\\end{eqnarray*}"
   ]
  },
  {
   "cell_type": "code",
   "execution_count": null,
   "metadata": {
    "collapsed": true
   },
   "outputs": [],
   "source": [
    "def g(x):\n",
    "    return np.sqrt(1+x)\n",
    "\n",
    "def h(x):\n",
    "    return np.sin(x)**2\n",
    "\n",
    "def k(x):\n",
    "    return np.exp(x)"
   ]
  },
  {
   "cell_type": "code",
   "execution_count": null,
   "metadata": {
    "collapsed": true
   },
   "outputs": [],
   "source": [
    "X1=np.linspace(0,np.pi*0.5,1000)\n",
    "X2=np.linspace(1.1,1.5,1000)"
   ]
  },
  {
   "cell_type": "code",
   "execution_count": null,
   "metadata": {
    "collapsed": true
   },
   "outputs": [],
   "source": [
    "print('La integral de 1. usando el método de cuadratura es: {}'.format(integrate.quad(g,0,0.1)[0]))\n",
    "print('La integral de 2. usando el método de simpson es: {}'.format(integrate.simps(h(X1),X1)))\n",
    "print('La integral de 3. usando el método trapezoidal es: {}'.format(integrate.trapz(k(X2),X2)))"
   ]
  },
  {
   "cell_type": "markdown",
   "metadata": {
    "collapsed": true
   },
   "source": [
    "# Activity 3\n",
    "\n",
    "Convertir la función `optimize.newton` de tal manera que reciba varios puntos"
   ]
  },
  {
   "cell_type": "code",
   "execution_count": null,
   "metadata": {
    "collapsed": true
   },
   "outputs": [],
   "source": [
    "b=lambda x:np.sin(x)-np.cos(x)\n",
    "X=np.linspace(0,np.pi*2)\n",
    "plt.plot(X,b(X))\n",
    "plt.grid()"
   ]
  },
  {
   "cell_type": "code",
   "execution_count": null,
   "metadata": {
    "collapsed": true
   },
   "outputs": [],
   "source": [
    "def newton(f,x):\n",
    "    try:\n",
    "        nn=np.array(x).shape[0]\n",
    "        new=np.vectorize(optimize.newton)\n",
    "        \n",
    "    except IndexError:\n",
    "        new=optimize.newton\n",
    "    \n",
    "    return new(f,x)"
   ]
  },
  {
   "cell_type": "code",
   "execution_count": null,
   "metadata": {
    "collapsed": true
   },
   "outputs": [],
   "source": [
    "print('ingresando un float: {}'.format(newton(b,1)))\n",
    "print('ingresando un arreglo: {}, {}'.format(newton(b,[1,4])[0],newton(b,[1,4])[1]))"
   ]
  },
  {
   "cell_type": "markdown",
   "metadata": {},
   "source": [
    "# Activity  4\n",
    "\n",
    "An experiment has measured $dN(t)/dt$, the number of particles entering a counter, per unit time, as a function of time. Your problem is to integrate this spectrum to obtain the number of particles $N(1)$ that entered the counter\n",
    "in the first second\n",
    "\n",
    "$$ N(1) = \\int_0^1 \\frac{dN}{dt} dt$$\n",
    "\n",
    "For the problem it is assumed exponential decay so that there actually is an analytic answer. \n",
    "\n",
    "$$ \\frac{dN}{dt} = e^{-t} $$\n",
    "\n",
    "Compare the relative error for the composite trapezoid and Simpson rules. Try different values of N. Make a logarithmic plot of N vs Error."
   ]
  },
  {
   "cell_type": "code",
   "execution_count": null,
   "metadata": {
    "collapsed": true
   },
   "outputs": [],
   "source": [
    "N= lambda t:round(integrate.quad(lambda x: np.exp(-x),0,t)[0],6)\n",
    "\n",
    "def IntSpec(x):\n",
    "    \n",
    "    try:\n",
    "        nn=np.array(x).shape[0]\n",
    "        Nt=np.vectorize(N)\n",
    "    \n",
    "    except IndexError:\n",
    "        Nt=N\n",
    "        \n",
    "    return Nt(x)\n",
    "        \n",
    "print('the number of particles N that entered the counter in the first 3 seconds are: {}'.format(IntSpec([1,2,3])))"
   ]
  },
  {
   "cell_type": "code",
   "execution_count": null,
   "metadata": {
    "collapsed": true
   },
   "outputs": [],
   "source": [
    "t=np.linspace(0,100,100)\n",
    "plt.plot(t,IntSpec(t))"
   ]
  },
  {
   "cell_type": "markdown",
   "metadata": {},
   "source": [
    "# Activity 5\n",
    "\n",
    "- Using the Simpson's adaptive quadrature determine the value of the next integral with a precision of float32.\n",
    "\n",
    "$$\\int_0^4 e^{-3x}\\sin(4x)dx$$"
   ]
  },
  {
   "cell_type": "code",
   "execution_count": null,
   "metadata": {
    "collapsed": true
   },
   "outputs": [],
   "source": [
    "function= lambda x: np.exp(-3*x)*np.sin(4*x)\n",
    "X=np.linspace(0,4,1000)\n",
    "integral=integrate.simps(function(X),X)\n",
    "print('El valor de la integral: {}'.format(integral))"
   ]
  },
  {
   "cell_type": "markdown",
   "metadata": {},
   "source": [
    "# Activity 6\n",
    "\n",
    "Fresnel integrals are commonly used in the study of light difraction at a rectangular aperture, they are given by:\n",
    "\n",
    "$$c(t) = \\int_0^t\\cos\\left(\\frac{\\pi}{2}\\omega^2\\right)d\\omega$$\n",
    "\n",
    "$$s(t) = \\int_0^t\\sin\\left(\\frac{\\pi}{2}\\omega^2\\right)d\\omega$$\n",
    "\n",
    "These integrals cannot be solved using analitical methods. Using the previous routine for adaptive quadrature, compute the integrals with a precision of $\\epsilon=10^{-4}$ for values of $t=0.1,0.2,0.3,\\cdots 1.0$. Create two arrays with those values and then make a plot of $c(t)$ vs $s(t)$. The resulting figure is called Euler spiral, that is a member of a family of curves called [Clothoid loops](http://en.wikipedia.org/wiki/Vertical_loop).\n"
   ]
  },
  {
   "cell_type": "code",
   "execution_count": null,
   "metadata": {
    "collapsed": true
   },
   "outputs": [],
   "source": [
    "c= lambda t: integrate.quad(lambda w: np.cos(np.pi*0.5*w**2),0,t)[0]\n",
    "s= lambda t: integrate.quad(lambda w: np.sin(np.pi*0.5*w**2),0,t)[0]\n",
    "\n",
    "def C(t):\n",
    "    Ct=np.vectorize(c)\n",
    "    return Ct(t)\n",
    "    \n",
    "def S(t):\n",
    "    St=np.vectorize(s)\n",
    "    return St(t)\n",
    "    "
   ]
  },
  {
   "cell_type": "code",
   "execution_count": null,
   "metadata": {
    "collapsed": true
   },
   "outputs": [],
   "source": [
    "T=np.linspace(0.1,5,1000)\n",
    "C_Fresn=C(T)\n",
    "S_Fresn=S(T)"
   ]
  },
  {
   "cell_type": "code",
   "execution_count": null,
   "metadata": {
    "collapsed": true
   },
   "outputs": [],
   "source": [
    "plt.plot(S_Fresn,C_Fresn)"
   ]
  },
  {
   "cell_type": "markdown",
   "metadata": {},
   "source": [
    "# Activity 7\n",
    "\n",
    "Error function is a special and non-elementary function that is widely used in probability, statistics and diffussion processes.\n",
    "It is defined through the integral:\n",
    "\n",
    "$$\\mbox{erf}(x) = \\frac{2}{\\sqrt{\\pi}}\\int_0^x e^{-t^2}dt$$\n",
    "\n",
    "Create a routine called `ErrorFunction` that, given a value of $x$, return the respective value of the integral.\n"
   ]
  },
  {
   "cell_type": "code",
   "execution_count": null,
   "metadata": {
    "collapsed": true
   },
   "outputs": [],
   "source": [
    "def ErrorFunction(x):\n",
    "    erf=lambda t: (2/np.sqrt(np.pi))*integrate.quad(lambda x: np.exp(-x**2),0,t)[0]\n",
    "    return erf(x)\n",
    "\n",
    "ErrorFunction(2)"
   ]
  },
  {
   "cell_type": "markdown",
   "metadata": {},
   "source": [
    "# Activity 7\n",
    "\n",
    "Create a routine called `IntegralExp` that, given a value of $x$, return the respective value of the integral.\n",
    "$$\\mbox{Ei}(x) = \\int_{-x}^\\infty \\frac{e^{-t}}{t} dt$$\n"
   ]
  },
  {
   "cell_type": "code",
   "execution_count": null,
   "metadata": {
    "collapsed": true
   },
   "outputs": [],
   "source": [
    "def IntegralExp(x):\n",
    "    Ei=lambda t: integrate.quad(lambda x: np.exp(-x)/x,-t,np.inf)[0]\n",
    "    return Ei(x)\n",
    "\n",
    "IntegralExp(2)"
   ]
  },
  {
   "cell_type": "markdown",
   "metadata": {},
   "source": [
    "# Activity 8\n",
    "\n",
    "Create a routine called `GammaFunc` that, given a value of $x$, return the respective value of the integral and make a table for $x$ values from 0.1 to 1.0 \n",
    "$${\\Gamma}(x) = \\int_{0}^\\infty {e^{-\\tau}} {\\tau^{x-1}} dt$$\n"
   ]
  },
  {
   "cell_type": "code",
   "execution_count": null,
   "metadata": {
    "collapsed": true
   },
   "outputs": [],
   "source": [
    "gamma=lambda x: integrate.quad(lambda t: np.exp(-t)*t**(x-1),0,np.inf)[0]\n",
    "\n",
    "def GammaFunc(x):\n",
    "    try:\n",
    "        nn=np.array(x).shape[0]\n",
    "        Γ=np.vectorize(gamma)\n",
    "        \n",
    "    except IndexError:\n",
    "        Γ=gamma\n",
    "        \n",
    "    return Γ(x)"
   ]
  },
  {
   "cell_type": "code",
   "execution_count": null,
   "metadata": {
    "collapsed": true
   },
   "outputs": [],
   "source": [
    "Gamma_table=pd.DataFrame({'x':np.arange(0.1,1.1,0.1), 'Γ':GammaFunc([0.1,0.2,0.3,0.4,0.5,0.6,0.7,0.8,0.9,1])})\n",
    "Gamma_table=Gamma_table.set_index('x')\n",
    "Gamma_table"
   ]
  },
  {
   "cell_type": "markdown",
   "metadata": {},
   "source": [
    "# Activity 9\n",
    "\n",
    "## Models of Universe\n",
    "\n",
    "From the Friedmann equations can be found the dynamics of the Universe, i.e., the evolution of the expansion with time that depends on the content of matter and energy of the Universe. Before introducing the general expression, there are several quatities that need to be defined. \n",
    "\n",
    "It is convenient to express the density in terms of a critical density $\\rho_c$ given by\n",
    "\n",
    "\\begin{equation}\n",
    "\\rho_c = 3H_0^2/8\\pi G\n",
    "\\end{equation}\n",
    "\n",
    "where $H_o$ is the Hubble constant. The critical density is the density needed in order the Universe to be flat. To obtained it, it is neccesary to make the curvature of the universe $\\kappa = 0$. The critical density is one value per\n",
    "time and the geometry of the universe depends on this value, or equally on $\\kappa$. For a universe with $\\kappa<0$ it would ocurre a big crunch(closed universe) and for a $\\kappa>0$ there would be an open universe.    \n",
    "\n",
    "Now, it can also be defined a density parameter, $\\Omega$, a normalized density\n",
    "\n",
    "\\begin{equation}\n",
    "\\Omega_{i,0} = \\rho_{i,0}/\\rho_{crit}\n",
    "\\end{equation}\n",
    "\n",
    "where $\\rho_{i,0}$ is the actual density($z=0$) for the component $i$. Then, it can be found the next expression \n",
    "\n",
    "\\begin{equation}\n",
    "\\frac{H^2(t)}{H_{0}^{2}} = (1-\\Omega_0)(1+z)^2 + \\Omega_{m,0}(1+z^3)+ \\Omega_{r,0}(1+z)^4 + \\Omega_{\\Lambda,0}\n",
    "\\end{equation}\n",
    "\n",
    "where $\\Omega_{m,0}$, $\\Omega_{r,0}$ and  $\\Omega_{\\Lambda,0}$ are the matter, radiation and vacuum density parameters. And $\\Omega_0$ is the total density including the vacuum energy. \n",
    "\n",
    "This expression can also be written in terms of the expansion or scale factor, $a$, by using: \n",
    "\n",
    "$$1+z = 1/a$$\n",
    "\n",
    "For the next universe models, plot time($H_{0}^{-1}$ units) vs the scale factor:\n",
    "\n",
    "-Einstein-de Sitter Universe: Flat space, null vacuum energy and dominated by matter\n",
    "\n",
    "\\begin{equation}\n",
    "t = H_0^{-1} \\int_0^{a'} a^{1/2}da\n",
    "\\end{equation}\n",
    " \n",
    "-Radiation dominated universe: All other components are not contributing \n",
    "\n",
    "$$\n",
    "t = H_0^{-1} \\int_0^{a'} \\frac{a}{[\\Omega_{r,0}+a^2(1-\\Omega_{r,0})]^{1/2}}da\n",
    "$$\n",
    "\n",
    "-WMAP9 Universe \n",
    "\n",
    "\\begin{equation}\n",
    "t = H_0^{-1} \\int_0^{a'} \\left[(1-\\Omega_{0})+ \\Omega_{M,0}a^{-1} + \\Omega_{R,0}a^{-2} +\\Omega_{\\Lambda,0}a^2\\right]^{-1/2} da\n",
    "\\end{equation}\n",
    "\n",
    "\n",
    "You can take the cosmological parameters  from the link \n",
    "\n",
    "http://lambda.gsfc.nasa.gov/product/map/dr5/params/lcdm_wmap9.cfm or use these ones: $\\Omega_M = 0.266$,\n",
    "$\\Omega_R = 8.24\\times 10^{-5}$ and $\\Omega_\\Lambda = 0.734$. \n",
    "\n",
    "Use composite Simpson's rule to integrate and compare it with the analytical expression in case you can get it. \n",
    "The superior limit in the integral corresponds to the actual redshift $z=0$. What is happening to our universe? \n"
   ]
  },
  {
   "cell_type": "code",
   "execution_count": null,
   "metadata": {
    "collapsed": true
   },
   "outputs": [],
   "source": [
    "Ho=(70,71.7,68.65,69.33)\n",
    "Om=(0.279,0.260,0.295,0.288)\n",
    "Or=(0.0463,0.0445,0.0477,0.0472)\n",
    "Ol=(0.721,0.740,0.705,0.712)\n",
    "Oo=np.zeros(len(Om))\n",
    "for i in range(len(Om)):\n",
    "    Oo[i]= Om[i]+Or[i]+Ol[i]"
   ]
  },
  {
   "cell_type": "code",
   "execution_count": null,
   "metadata": {
    "collapsed": true
   },
   "outputs": [],
   "source": [
    "def EinSit(a):\n",
    "    return np.sqrt(a)\n",
    "\n",
    "def Rad(a,Or):\n",
    "    return a/np.sqrt(Or+(a**2)*(1-Or))\n",
    "\n",
    "def Wmap(a,Oo,Om,Or,Ol):\n",
    "    return np.sqrt((1-Oo)+ (Om/a) + (Or/(a**2))+ (Ol*(a**2)))"
   ]
  },
  {
   "cell_type": "code",
   "execution_count": null,
   "metadata": {
    "collapsed": true
   },
   "outputs": [],
   "source": [
    "def EinSitInt(a,Ho):\n",
    "    integral= (1./Ho)*integrate.quad(EinSit, 1.0, a)[0]\n",
    "    return integral\n",
    "\n",
    "def RadInt(a,Ho,Or):\n",
    "    integral= (1./Ho)*integrate.quad(Rad, 1.0, a, args=(Or))[0]\n",
    "    return integral\n",
    "\n",
    "def WmapInt(a,Ho,Oo,Om,Or,Ol):\n",
    "    integral= (1./Ho)*integrate.quad(Wmap, 1.0, a, args=(Oo,Om,Or,Ol))[0]\n",
    "    return integral"
   ]
  },
  {
   "cell_type": "code",
   "execution_count": null,
   "metadata": {
    "collapsed": true
   },
   "outputs": [],
   "source": [
    "a=np.linspace(1,100,1000)\n",
    "vec_EinSit=np.vectorize(EinSitInt)\n",
    "vec_Rad=np.vectorize(RadInt)\n",
    "vec_Wmap=np.vectorize(WmapInt)\n",
    "tE=vec_EinSit(a,Ho[0])\n",
    "tR=vec_Rad(a,Ho[0],Or[0])\n",
    "tW=vec_Wmap(a,Ho[0],Oo[0],Om[0],Or[0],Ol[0])"
   ]
  },
  {
   "cell_type": "code",
   "execution_count": null,
   "metadata": {
    "collapsed": true
   },
   "outputs": [],
   "source": [
    "plt.plot(a,tE, label='Einstein-de Sitter Universe')\n",
    "plt.plot(a,tR, label='Radiation Universe')\n",
    "plt.plot(a,tW, label='Wmap Universe')\n",
    "plt.legend()"
   ]
  },
  {
   "cell_type": "markdown",
   "metadata": {},
   "source": [
    "# Activity 10\n",
    "\n",
    "The following DataFrame Fx gives the pull F of the bow as a function of the draw x. If the\n",
    "bow is drawn 0.5 m, determine the speed of the 0.075-kg arrow when it leaves\n",
    "the bow. Hint: the kinetic energy of the arrow equals the work done in drawing the bow, that is, $$ \\frac{mv^2}{2} = \\int_0^{0.5}Fdx $$\n",
    "\n"
   ]
  },
  {
   "cell_type": "code",
   "execution_count": 5,
   "metadata": {
    "collapsed": true
   },
   "outputs": [],
   "source": [
    "Fx=pd.DataFrame({'x':[0.,0.05,0.10,0.15,0.2,0.25,0.3,0.35,0.4,0.45,0.5],'F':[0,37,71,104,134,161,185,207,225,239,250]})"
   ]
  },
  {
   "cell_type": "code",
   "execution_count": 12,
   "metadata": {},
   "outputs": [
    {
     "name": "stdout",
     "output_type": "stream",
     "text": [
      "The velocity of the arrow when it leavse the bow is: 160.495 km/h\n"
     ]
    }
   ],
   "source": [
    "velocity=np.sqrt((2/0.075)*integrate.simps(Fx.F.values,Fx.x.values))\n",
    "print('The velocity of the arrow when it leavse the bow is: {} km/h'.format(round(velocity*3.6,3)))"
   ]
  },
  {
   "cell_type": "markdown",
   "metadata": {},
   "source": [
    "# Activity 11\n",
    "see problem 13 page 209 Kisaulaus Numerical Methods "
   ]
  },
  {
   "cell_type": "code",
   "execution_count": 17,
   "metadata": {},
   "outputs": [],
   "source": [
    "m=0.8\n",
    "b=0.4\n",
    "mu=0.3\n",
    "k=80\n",
    "g=9.81\n",
    "\n",
    "def f(x): \n",
    "    return mu*g+(k/m)*(mu+b+x)*(1-(b/np.sqrt((b**2)+(x**2))))"
   ]
  },
  {
   "cell_type": "code",
   "execution_count": 20,
   "metadata": {},
   "outputs": [
    {
     "name": "stdout",
     "output_type": "stream",
     "text": [
      "Vo is equal to: 3.4267543143573267\n"
     ]
    }
   ],
   "source": [
    "print('Vo is equal to: {}'.format(np.sqrt(2*integrate.quad(f,0,b)[0])))"
   ]
  },
  {
   "cell_type": "markdown",
   "metadata": {},
   "source": [
    "# Activity 12\n",
    "\n",
    "see problem 15 page 210 Kisaulaus Numerical Methods "
   ]
  },
  {
   "cell_type": "code",
   "execution_count": 34,
   "metadata": {},
   "outputs": [
    {
     "name": "stdout",
     "output_type": "stream",
     "text": [
      "The energy dissipated by the resisitor is: 9.999999999999954\n"
     ]
    }
   ],
   "source": [
    "to=0.01\n",
    "R=0.5\n",
    "io=100\n",
    "\n",
    "expr=lambda t: R*(io*np.exp(-t/to)*np.sin((2*t)/to))**2\n",
    "\n",
    "print('The energy dissipated by the resisitor is: {}'.format(integrate.quad(expr,0,np.inf)[0]))"
   ]
  },
  {
   "cell_type": "code",
   "execution_count": null,
   "metadata": {
    "collapsed": true
   },
   "outputs": [],
   "source": []
  }
 ],
 "metadata": {
  "kernelspec": {
   "display_name": "Python 3",
   "language": "python",
   "name": "python3"
  },
  "language_info": {
   "codemirror_mode": {
    "name": "ipython",
    "version": 3
   },
   "file_extension": ".py",
   "mimetype": "text/x-python",
   "name": "python",
   "nbconvert_exporter": "python",
   "pygments_lexer": "ipython3",
   "version": "3.4.2"
  }
 },
 "nbformat": 4,
 "nbformat_minor": 2
}

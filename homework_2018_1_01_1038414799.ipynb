{
 "cells": [
  {
   "cell_type": "markdown",
   "metadata": {},
   "source": [
    "%pylab inline"
   ]
  },
  {
   "cell_type": "code",
   "execution_count": 48,
   "metadata": {},
   "outputs": [
    {
     "name": "stdout",
     "output_type": "stream",
     "text": [
      "The real number is: 0.15625 \n"
     ]
    }
   ],
   "source": [
    "def number32(sb):\n",
    "    \n",
    "    if type(sb)!=str:\n",
    "        sys.exit('Error. The binary must by a string')\n",
    "    \n",
    "    #converting the entry to a list of int numbers\n",
    "    bs=np.array(list(sb))\n",
    "    ns=bs.astype(int)\n",
    "    \n",
    "    #calculating the fractional part\n",
    "    exp2_frac= np.exp2((-1)*np.arange(1,24))\n",
    "    list_frac=ns[-23:]\n",
    "    fraction= 1 + np.dot(exp2_frac,list_frac)\n",
    "    \n",
    "    #calculating the exponetial part\n",
    "    exp2_epart= np.exp2(np.arange(0,8))\n",
    "    list_epart=ns[1:9]\n",
    "    epart= np.exp2(np.dot(exp2_epart, list_epart[::-1])-127)\n",
    "    \n",
    "    #applying the conversion formula\n",
    "    r=((-1)**ns[0])*fraction*epart\n",
    "    \n",
    "    return r\n",
    "\n",
    "print(\"The real number is: {} \".format(number32(\"00111110001000000000000000000000\")))"
   ]
  },
  {
   "cell_type": "code",
   "execution_count": null,
   "metadata": {
    "collapsed": true
   },
   "outputs": [],
   "source": []
  }
 ],
 "metadata": {
  "kernelspec": {
   "display_name": "Python 3",
   "language": "python",
   "name": "python3"
  },
  "language_info": {
   "codemirror_mode": {
    "name": "ipython",
    "version": 3
   },
   "file_extension": ".py",
   "mimetype": "text/x-python",
   "name": "python",
   "nbconvert_exporter": "python",
   "pygments_lexer": "ipython3",
   "version": "3.4.2"
  }
 },
 "nbformat": 4,
 "nbformat_minor": 2
}
